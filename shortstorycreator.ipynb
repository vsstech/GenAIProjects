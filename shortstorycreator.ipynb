{
 "cells": [
  {
   "cell_type": "markdown",
   "id": "d15d8294-3328-4e07-ad16-8a03e9bbfdb9",
   "metadata": {},
   "source": [
    "# Short Story Creator\n",
    "\n"
   ]
  },
  {
   "cell_type": "code",
   "execution_count": 9,
   "id": "4e2a9393-7767-488e-a8bf-27c12dca35bd",
   "metadata": {},
   "outputs": [],
   "source": [
    "# imports\n",
    "import ollama"
   ]
  },
  {
   "cell_type": "code",
   "execution_count": 10,
   "id": "29ddd15d-a3c5-4f4e-a678-873f56162724",
   "metadata": {},
   "outputs": [],
   "source": [
    "# Constants\n",
    "MODEL = \"llama3.1\""
   ]
  },
  {
   "cell_type": "code",
   "execution_count": 11,
   "id": "192107c0-bb16-495e-98d7-6b12a8060a08",
   "metadata": {},
   "outputs": [],
   "source": [
    "def get_story_user_prompt(genre, theme, style, tone):\n",
    "    user_prompt = f\"You are looking at genre: {genre}\\n\"\n",
    "    user_prompt += f\"with the theme: {theme}.\\n\"\n",
    "    user_prompt += f\"Author's writingStyle is: {style}.\\n\"\n",
    "    user_prompt += f\"Tone of the story is: {tone}.\"\n",
    "    user_prompt = user_prompt[:5_000] # Truncate if more than 5,000 characters\n",
    "    return user_prompt"
   ]
  },
  {
   "cell_type": "code",
   "execution_count": 12,
   "id": "dac0a679-599c-441f-9bf2-ddc73d35b940",
   "metadata": {},
   "outputs": [],
   "source": [
    "def create_short_story(genre, theme, style, tone):\n",
    "    response = ollama.chat(model=MODEL, messages=[\n",
    "            {\"role\": \"system\", \"content\": story_system_prompt},\n",
    "            {\"role\": \"user\", \"content\": get_story_user_prompt(genre, theme, style, tone)}\n",
    "          ])\n",
    "    return response['message']['content']\n"
   ]
  },
  {
   "cell_type": "code",
   "execution_count": 13,
   "id": "2a6cb86f-1a72-4765-94b5-1f38196acb93",
   "metadata": {},
   "outputs": [],
   "source": [
    "story_system_prompt = \"You are an creative story writing assistant that takes input like genre, theme, or character type \\\n",
    "and generates a short story.\""
   ]
  },
  {
   "cell_type": "code",
   "execution_count": 14,
   "id": "42b9f644-522d-4e05-a691-56e7658c0ea9",
   "metadata": {},
   "outputs": [
    {
     "name": "stdout",
     "output_type": "stream",
     "text": [
      "What an exciting combination! Here's a short story that I came up with:\n",
      "\n",
      "**The Starlight Weaver**\n",
      "\n",
      "In a small village nestled between two great mountains, there lived a young girl named Aria. She was known throughout the village for her extraordinary talent – she could weave the most exquisite fabrics using threads of pure starlight.\n",
      "\n",
      "Aria's mother had been a skilled weaver in her own right, and before she passed away, she taught Aria the ancient art of weaving with celestial threads. But it wasn't just the technical skill that her mother imparted to her; she also shared stories of their ancestors, who had used this magic to create magnificent tapestries that brought hope and prosperity to the village.\n",
      "\n",
      "As a child, Aria's starlight weavings were considered mere curiosities by the villagers. But when she turned 16, a great drought struck the land, and the crops began to wither away. The villagers, desperate for relief, turned to Aria in hopes that her weavings could bring them fortune.\n",
      "\n",
      "However, Aria was only just beginning to grasp the full extent of her mother's legacy. She had never ventured beyond the village boundaries and felt overwhelmed by the weight of expectation on her shoulders. What if she failed? What if the starlight threads didn't respond to her touch?\n",
      "\n",
      "One evening, as the stars began to twinkle above, Aria set out into the unknown. With a small bag slung over her shoulder, containing a few precious threads and her mother's ancient loom, she bid farewell to her tearful family and friends.\n",
      "\n",
      "She traversed through deserts of golden sand, crossed scorching rivers, and climbed treacherous mountains, facing countless challenges along the way. But with each step, Aria grew stronger, her heart filling with determination. She whispered words of encouragement to herself, reminding that she was not just a weaver, but also a guardian of her family's legacy.\n",
      "\n",
      "As night fell on the third day, Aria reached the foot of a towering peak, where an ancient volcano lay dormant. The air was thick with mist, and the winds howled like a chorus of lost souls. Yet, undaunted, she set up her loom and began to weave.\n",
      "\n",
      "With every thread she wove, Aria poured out her heart's desire – for the village to thrive, for the land to bloom, and for her people to find peace. And as the fabric took shape beneath her fingers, a soft light emanated from it, spreading across the mountainside like a gentle rain.\n",
      "\n",
      "The villagers, who had been searching for Aria everywhere, finally found her at the volcano's base. They watched in awe as she worked, mesmerized by the starlight threads dancing through her loom. When the tapestry was complete, they gazed upon its beauty and felt a collective sigh of relief wash over them.\n",
      "\n",
      "As the night wore on, the villagers gathered around Aria, their faces aglow with gratitude. They told stories of her bravery and selflessness, of how she had braved the unknown to bring hope back to their village. And as they listened, the fabric itself began to transform – its colors deepening, its patterns evolving, until it shimmered like a living, breathing entity.\n",
      "\n",
      "From that day forward, Aria's starlight weavings became the stuff of legend. People came from far and wide to marvel at her creations, which brought not only beauty but also prosperity and peace. And as for Aria herself? She roamed the world, weaving tales of courage and resilience, reminding everyone that even in the darkest moments, a spark of light can ignite within us all.\n",
      "\n",
      "This story is dedicated to anyone who's ever felt called to be brave, even when it seems like the odds are stacked against them. Remember, just as Aria wove her way through hardship, you too can create your own path forward, thread by thread.\n"
     ]
    }
   ],
   "source": [
    "response = create_short_story(\"Fiction\", \"Bravery and hardship\", \"Creativity\", \"Encouraging\")\n",
    "print(response)"
   ]
  },
  {
   "cell_type": "code",
   "execution_count": 15,
   "id": "5ff4c55c-a7b1-4af6-a5db-8f27678a7ac6",
   "metadata": {},
   "outputs": [],
   "source": [
    "import gradio as gr "
   ]
  },
  {
   "cell_type": "code",
   "execution_count": 18,
   "id": "fad3f139-832f-4e94-ae49-2470c701c928",
   "metadata": {
    "scrolled": true
   },
   "outputs": [
    {
     "name": "stdout",
     "output_type": "stream",
     "text": [
      "* Running on local URL:  http://127.0.0.1:7864\n",
      "\n",
      "To create a public link, set `share=True` in `launch()`.\n"
     ]
    },
    {
     "data": {
      "text/html": [
       "<div><iframe src=\"http://127.0.0.1:7864/\" width=\"100%\" height=\"500\" allow=\"autoplay; camera; microphone; clipboard-read; clipboard-write;\" frameborder=\"0\" allowfullscreen></iframe></div>"
      ],
      "text/plain": [
       "<IPython.core.display.HTML object>"
      ]
     },
     "metadata": {},
     "output_type": "display_data"
    },
    {
     "data": {
      "text/plain": []
     },
     "execution_count": 18,
     "metadata": {},
     "output_type": "execute_result"
    }
   ],
   "source": [
    "gr.Interface(fn=create_short_story, inputs=[gr.Dropdown([\"Fiction\", \"Nonfiction\", \"Drama\", \"Poetry\", \"Fantasy\", \"Horror\", \"Mystery\", \"Science Fiction\", \"Suspense\", \"Women's fiction\", \"Supernatural/Paranormal\", \"Suspense\", \"Young adult\"], label=\"genre\", info=\"select your story genre\"),\n",
    "                                gr.Dropdown([\"Love\", \"Redemption\", \"Forgiveness\", \"Coming of age\", \"Revenge\", \"Good vs evil\", \"Bravery and hardship\", \"The power of social status\",\"The destructive nature of love\", \"The fallibility of the human condition\"], label=\"theme\", info=\"select your story theme\"), \n",
    "                                gr.Dropdown([\"Expository\", \"Narrative\", \"Descriptive\", \"Persuasive\", \"creative\"], label=\"style\", info=\"select writingStyle\"),\n",
    "                                gr.Dropdown([\"Formal\", \"Formal\", \"Optimistic\", \"Worried\", \"Friendly\", \"Curious\", \"Assertive\", \"Encouraging\"], label=\"tone\", info=\"select the tone\")            \n",
    "             ], outputs=\"textarea\").launch()"
   ]
  },
  {
   "cell_type": "code",
   "execution_count": null,
   "id": "5d5c3ac8-29cd-483c-a4e0-0481f0b6379f",
   "metadata": {},
   "outputs": [],
   "source": []
  }
 ],
 "metadata": {
  "kernelspec": {
   "display_name": "Python 3 (ipykernel)",
   "language": "python",
   "name": "python3"
  },
  "language_info": {
   "codemirror_mode": {
    "name": "ipython",
    "version": 3
   },
   "file_extension": ".py",
   "mimetype": "text/x-python",
   "name": "python",
   "nbconvert_exporter": "python",
   "pygments_lexer": "ipython3",
   "version": "3.11.11"
  }
 },
 "nbformat": 4,
 "nbformat_minor": 5
}
