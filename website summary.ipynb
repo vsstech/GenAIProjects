{
 "cells": [
  {
   "metadata": {},
   "cell_type": "markdown",
   "source": "# Summarize website using ollama (Local lightweight LLM)\n",
   "id": "f4c635ddbba9054c"
  },
  {
   "metadata": {
    "ExecuteTime": {
     "end_time": "2024-12-12T14:17:25.516830Z",
     "start_time": "2024-12-12T14:17:25.511225Z"
    }
   },
   "cell_type": "code",
   "source": [
    "# imports\n",
    "import ollama\n",
    "import gradio as gr\n",
    "from bs4 import BeautifulSoup\n",
    "import requests\n",
    "from IPython.display import Markdown, display"
   ],
   "id": "b6a8a94b36beb3e8",
   "outputs": [],
   "execution_count": 9
  },
  {
   "metadata": {
    "ExecuteTime": {
     "end_time": "2024-12-12T14:18:11.719540Z",
     "start_time": "2024-12-12T14:18:11.717454Z"
    }
   },
   "cell_type": "code",
   "source": [
    "# constants\n",
    "MODEL = \"llama3.2\""
   ],
   "id": "801d8ff690903542",
   "outputs": [],
   "execution_count": 10
  },
  {
   "metadata": {
    "ExecuteTime": {
     "end_time": "2024-12-12T14:18:16.315445Z",
     "start_time": "2024-12-12T14:18:16.311885Z"
    }
   },
   "cell_type": "code",
   "source": [
    "\n",
    "# A class to represent a Webpage\n",
    "class Website:\n",
    "\n",
    "    def __init__(self, url):\n",
    "        \"\"\"\n",
    "        Create this Website object from the given url using the BeautifulSoup library\n",
    "        \"\"\"\n",
    "        self.url = url\n",
    "        response = requests.get(url)\n",
    "        soup = BeautifulSoup(response.content, 'html.parser')\n",
    "        self.title = soup.title.string if soup.title else \"No title found\"\n",
    "        for irrelevant in soup.body([\"script\", \"style\", \"img\", \"input\"]):\n",
    "            irrelevant.decompose()\n",
    "        self.text = soup.body.get_text(separator=\"\\n\", strip=True)"
   ],
   "id": "82b94ab9-f8a6-491d-a8c4-72e180fc511f",
   "outputs": [],
   "execution_count": 11
  },
  {
   "metadata": {
    "ExecuteTime": {
     "end_time": "2024-12-12T14:43:03.404168Z",
     "start_time": "2024-12-12T14:43:03.395960Z"
    }
   },
   "cell_type": "code",
   "source": [
    "# Step 1: Create your prompts\n",
    "\n",
    "# Define our system prompt\n",
    "system_prompt = \"You are an assistant that analyzes the contents of a website \\\n",
    "and provides a short summary, ignoring text that might be navigation related. \\\n",
    "Respond in markdown.\"\n",
    "\n",
    "# Step 2: Make the messages list\n",
    "\n",
    "# A function that writes a User Prompt that asks for summaries of websites:\n",
    "def user_prompt_for(website):\n",
    "    user_prompt = f\"You are looking at a website titled {website.title}\"\n",
    "    user_prompt += \"\\nThe contents of this website is as follows; \\\n",
    "please provide a short summary of this website in markdown. \\\n",
    "If it includes news or announcements, then summarize these too.\\n\\n\"\n",
    "    user_prompt += website.text\n",
    "    return user_prompt\n",
    "\n",
    "# See how this function creates exactly the format above\n",
    "def messages_for(website):\n",
    "    return [\n",
    "        {\"role\": \"system\", \"content\": system_prompt},\n",
    "        {\"role\": \"user\", \"content\": user_prompt_for(website)}\n",
    "    ]\n",
    "\n",
    "# Step 3: Call ollama function\n",
    "\n",
    "def summarize(url):\n",
    "    website = Website(url)\n",
    "    messages = messages_for(website)\n",
    "    response = ollama.chat(model=MODEL, messages=messages)\n",
    "    return response['message']['content']\n",
    "\n",
    "\n",
    "# Step 4: print the result\n",
    "# A function to display this nicely in the Jupyter output, using markdown\n",
    "\n",
    "def display_summary(url):\n",
    "    summary = summarize(url)\n",
    "    display(Markdown(summary))\n",
    "\n",
    "def gr_summary(url):\n",
    "    return summarize(url)\n"
   ],
   "id": "4d00c7be-64df-419d-9b7c-d838f73fffce",
   "outputs": [],
   "execution_count": 29
  },
  {
   "metadata": {
    "ExecuteTime": {
     "end_time": "2024-12-12T14:46:14.611831Z",
     "start_time": "2024-12-12T14:46:07.235745Z"
    }
   },
   "cell_type": "code",
   "source": "display_summary(\"https://anthropic.com\")",
   "id": "4ddf95ded8751d68",
   "outputs": [
    {
     "data": {
      "text/plain": [
       "<IPython.core.display.Markdown object>"
      ],
      "text/markdown": "### Anthropic Website Summary\n\n#### Company Overview\n\nAnthropic is an AI safety and research company based in San Francisco, with a multidisciplinary team experienced in ML, physics, policy, and product. The company generates research and creates reliable, beneficial AI systems.\n\n#### News and Announcements\n\n* **Oct 22, 2024**: Introducing computer use (new Claude 3.5 Sonnet and Claude 3.5 Haiku) - Model updates\n* **Sep 4, 2024**: Claude for Enterprise - Announcement of product for business customers\n* **Dec 15, 2022**: Constitutional AI: Harmlessness from AI Feedback - Research paper announcement\n* **Mar 8, 2023**: Core Views on AI Safety: When, Why, What, and How - Announcement of research\n\n#### Product Overview\n\nAnthropic offers a range of products, including:\n\n* **Claude**: An intelligent AI model available for use through the API.\n* **Claude for Enterprise**: A product designed for business customers.\n* **API**: Build with Claude to drive efficiency and create new revenue streams.\n\n#### Research Areas\n\nAnthropic focuses on AI safety research, including alignment, constitutional AI, and other topics."
     },
     "metadata": {},
     "output_type": "display_data"
    }
   ],
   "execution_count": 31
  },
  {
   "metadata": {
    "ExecuteTime": {
     "end_time": "2024-12-12T14:47:01.142925Z",
     "start_time": "2024-12-12T14:47:01.138871Z"
    }
   },
   "cell_type": "code",
   "source": "# Use gradio UI",
   "id": "4f4436a37d276614",
   "outputs": [],
   "execution_count": 32
  },
  {
   "metadata": {
    "ExecuteTime": {
     "end_time": "2024-12-12T14:43:06.358997Z",
     "start_time": "2024-12-12T14:43:06.244139Z"
    }
   },
   "cell_type": "code",
   "source": "gr.Interface(fn=gr_summary, inputs=\"textbox\", outputs=\"textarea\").launch()",
   "id": "d4577729fddb1e99",
   "outputs": [
    {
     "name": "stdout",
     "output_type": "stream",
     "text": [
      "* Running on local URL:  http://127.0.0.1:7871\n",
      "\n",
      "To create a public link, set `share=True` in `launch()`.\n"
     ]
    },
    {
     "data": {
      "text/plain": [
       "<IPython.core.display.HTML object>"
      ],
      "text/html": [
       "<div><iframe src=\"http://127.0.0.1:7871/\" width=\"100%\" height=\"500\" allow=\"autoplay; camera; microphone; clipboard-read; clipboard-write;\" frameborder=\"0\" allowfullscreen></iframe></div>"
      ]
     },
     "metadata": {},
     "output_type": "display_data"
    },
    {
     "data": {
      "text/plain": []
     },
     "execution_count": 30,
     "metadata": {},
     "output_type": "execute_result"
    }
   ],
   "execution_count": 30
  }
 ],
 "metadata": {
  "kernelspec": {
   "display_name": "Python 3 (ipykernel)",
   "language": "python",
   "name": "python3"
  },
  "language_info": {
   "codemirror_mode": {
    "name": "ipython",
    "version": 3
   },
   "file_extension": ".py",
   "mimetype": "text/x-python",
   "name": "python",
   "nbconvert_exporter": "python",
   "pygments_lexer": "ipython3",
   "version": "3.12.2"
  }
 },
 "nbformat": 4,
 "nbformat_minor": 5
}
